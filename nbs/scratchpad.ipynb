{
 "cells": [
  {
   "cell_type": "code",
   "execution_count": 3,
   "metadata": {},
   "outputs": [],
   "source": [
    "import numpy as np\n",
    "import matplotlib.pyplot as plt\n"
   ]
  },
  {
   "cell_type": "code",
   "execution_count": 4,
   "metadata": {},
   "outputs": [],
   "source": [
    "x_vals = np.arange(0, 21, 1)\n",
    "actual_vals = np.sin(x_vals)\n",
    "predicted_vals = np.cos(x_vals)\n"
   ]
  },
  {
   "cell_type": "code",
   "execution_count": null,
   "metadata": {},
   "outputs": [],
   "source": [
    "def plot_trapezoid(x1, x2, y1, y2, axis, color=\"purple\"):\n",
    "    # plot right side of trapezoid\n",
    "    plt.plot(\n",
    "        [x1, x1],\n",
    "        [axis, y1],\n",
    "        linestyle=\"--\",\n",
    "        linewidth=1,\n",
    "        color=color,\n",
    "        alpha=0.75,\n",
    "    )\n",
    "    # plot bottom side of trapezoid\n",
    "    plt.plot(\n",
    "        [x1, x2],\n",
    "        [axis, axis],\n",
    "        linestyle=\"--\",\n",
    "        linewidth=1,\n",
    "        color=color,\n",
    "        alpha=0.75,\n",
    "    )\n",
    "    # plot left side of trapezoid\n",
    "    plt.plot(\n",
    "        [x2, x2],\n",
    "        [axis, y2],\n",
    "        linestyle=\"--\",\n",
    "        linewidth=1,\n",
    "        color=color,\n",
    "        alpha=0.75,\n",
    "    )\n",
    "    # plot top side of trapezoid\n",
    "    plt.plot(\n",
    "        [x1, x2],\n",
    "        [y1, y2],\n",
    "        linestyle=\"--\",\n",
    "        linewidth=1,\n",
    "        color=color,\n",
    "        alpha=0.75,\n",
    "    )\n",
    "    plt.fill_between([x1, x2], [y1, y2], axis, color=color, alpha=0.25)\n"
   ]
  },
  {
   "cell_type": "code",
   "execution_count": null,
   "metadata": {},
   "outputs": [],
   "source": [
    "min_val = min(min(actual_vals), min(predicted_vals))\n",
    "max_val = max(max(actual_vals), max(predicted_vals))\n",
    "\n",
    "plt.axhline(y=0, color=\"k\", linewidth=0.5)\n",
    "plt.axvline(x=0, color=\"k\", linewidth=0.5)\n",
    "\n",
    "plt.plot(x_vals, actual_vals, label=\"Actual\")\n",
    "plt.plot(x_vals, predicted_vals, label=\"Predicted\")\n",
    "\n",
    "for i in range(x_vals[0], x_vals[-1]):\n",
    "    plot_trapezoid(x_vals[i], x_vals[i + 1], actual_vals[i], actual_vals[i + 1], 0)\n",
    "    plot_trapezoid(\n",
    "        x_vals[i],\n",
    "        x_vals[i + 1],\n",
    "        predicted_vals[i],\n",
    "        predicted_vals[i + 1],\n",
    "        0,\n",
    "        color=\"green\",\n",
    "    )\n",
    "\n",
    "plt.xlim(-1, len(x_vals))\n",
    "plt.ylim(-1, max_val + 1)\n",
    "plt.xticks(x_vals[::2])\n",
    "plt.legend(frameon=False, loc=\"upper left\", fontsize=\"small\")\n",
    "plt.show()\n"
   ]
  },
  {
   "cell_type": "code",
   "execution_count": 5,
   "metadata": {},
   "outputs": [],
   "source": [
    "def area_under_curve(x, y, start, end):\n",
    "    area = np.trapz(y[start:end], x[start:end])\n",
    "    print(f\"Area under curve from {start} to {end} is {area}\")\n",
    "    return area\n"
   ]
  },
  {
   "cell_type": "code",
   "execution_count": 6,
   "metadata": {},
   "outputs": [],
   "source": [
    "def diff_area_under_curve(x, y1, y2, start, end):\n",
    "    area1 = area_under_curve(x, y1, start, end)\n",
    "    area2 = area_under_curve(x, y2, start, end)\n",
    "    diff = np.abs(area1 - area2)\n",
    "    print(f\"Difference in area under curve from {start} to {end} is {diff}\")\n",
    "    return diff\n"
   ]
  },
  {
   "cell_type": "code",
   "execution_count": null,
   "metadata": {},
   "outputs": [],
   "source": []
  }
 ],
 "metadata": {
  "kernelspec": {
   "display_name": ".venv",
   "language": "python",
   "name": "python3"
  },
  "language_info": {
   "codemirror_mode": {
    "name": "ipython",
    "version": 3
   },
   "file_extension": ".py",
   "mimetype": "text/x-python",
   "name": "python",
   "nbconvert_exporter": "python",
   "pygments_lexer": "ipython3",
   "version": "3.12.3"
  }
 },
 "nbformat": 4,
 "nbformat_minor": 2
}
